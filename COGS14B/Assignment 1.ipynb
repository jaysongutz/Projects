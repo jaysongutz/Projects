{
 "cells": [
  {
   "cell_type": "markdown",
   "id": "da0a1d8a",
   "metadata": {},
   "source": [
    "1."
   ]
  },
  {
   "cell_type": "code",
   "execution_count": 138,
   "id": "e4582d5f",
   "metadata": {
    "scrolled": false
   },
   "outputs": [
    {
     "name": "stdout",
     "output_type": "stream",
     "text": [
      "19.93839835728953\n"
     ]
    },
    {
     "data": {
      "text/plain": [
       "Text(0, 0.5, '# of Songs')"
      ]
     },
     "execution_count": 138,
     "metadata": {},
     "output_type": "execute_result"
    },
    {
     "data": {
      "image/png": "[encoded data removed]",
      "text/plain": [
       "<Figure size 432x288 with 1 Axes>"
      ]
     },
     "metadata": {
      "needs_background": "light"
     },
     "output_type": "display_data"
    }
   ],
   "source": [
    "import pandas as pd\n",
    "import numpy as np\n",
    "import math\n",
    "from matplotlib import pyplot as plt\n",
    "df = pd.read_csv('Song duration - Sheet1.csv')\n",
    "count = [0.0] * (int(round(max(df['song.duration']))) + 1)\n",
    "\n",
    "for i in durations:\n",
    "    round(i)\n",
    "    count[int(i)] += 1\n",
    "print(sum(count)/len(count))\n",
    "plt.hist(df['song.duration'], bins=[*range(len(count))])\n",
    "plt.title('Number of Songs of a specific song length')\n",
    "plt.xlabel('Song Durations (s)')\n",
    "plt.ylabel('# of Songs')"
   ]
  },
  {
   "cell_type": "markdown",
   "id": "35ba7a0d",
   "metadata": {},
   "source": [
    "2. Could technically be categorized as asymmetric with a slightly positive skew; however, the skew is minor enough to ignore since "
   ]
  },
  {
   "cell_type": "code",
   "execution_count": 139,
   "id": "e1134852",
   "metadata": {},
   "outputs": [
    {
     "name": "stdout",
     "output_type": "stream",
     "text": [
      "226.0866091132848 is the mean\n",
      "220.48608000000002 is the median2\n",
      "209.73669 is the mode\n"
     ]
    }
   ],
   "source": [
    "#3. Report the mean and median of this distribution\n",
    "\n",
    "#calculates mean\n",
    "mean = str(sum(durations)/len(durations))\n",
    "print(mean + ' is the mean')\n",
    "\n",
    "#calculates median\n",
    "df = df.sort_values('song.duration', ascending=True)\n",
    "df = df.reset_index(drop=True)\n",
    "sorted = df['song.duration']\n",
    "if (len(df['song.duration']) % 2) == 1:\n",
    "    median = sorted[len(sorted)/2 + 1]\n",
    "    print(str(median) + ' is the median1')\n",
    "else:\n",
    "    median = (sorted[len(sorted)/2] + \n",
    "              sorted[len(sorted)/2 + 1]) / 2.0\n",
    "    print(str(median) + ' is the median2')\n",
    "\n",
    "#calculates mode\n",
    "mode = str(durations[np.argmax(sorted)])\n",
    "print(mode + ' is the mode')"
   ]
  },
  {
   "cell_type": "markdown",
   "id": "3dfb2226",
   "metadata": {},
   "source": [
    "4. Justify which measure of central tendency is more appropriate"
   ]
  },
  {
   "cell_type": "code",
   "execution_count": 140,
   "id": "4fa1a619",
   "metadata": {
    "scrolled": true
   },
   "outputs": [
    {
     "name": "stdout",
     "output_type": "stream",
     "text": [
      "1.04444 is the min\n",
      "486.42567 is the max\n",
      "485.38123 is the range\n"
     ]
    }
   ],
   "source": [
    "#5. Report the min, max, and range of this distribution\n",
    "print(str(min(durations)) + ' is the min')\n",
    "print(str(max(durations)) + ' is the max')\n",
    "print(str(max(durations) - min(durations)) + ' is the range')"
   ]
  },
  {
   "cell_type": "code",
   "execution_count": 141,
   "id": "8fe771a2",
   "metadata": {},
   "outputs": [
    {
     "name": "stdout",
     "output_type": "stream",
     "text": [
      "62513874.64062173 is the Sum of Squared Deviations\n"
     ]
    }
   ],
   "source": [
    "#6. Report the sum of the squared deviations\n",
    "ss = 0\n",
    "for item in durations:\n",
    "    ss += (item - float(mean)) * (item - float(mean))\n",
    "ss = str(ss)\n",
    "print(ss + ' is the Sum of Squared Deviations')"
   ]
  },
  {
   "cell_type": "code",
   "execution_count": 142,
   "id": "24dc63c1",
   "metadata": {
    "scrolled": true
   },
   "outputs": [
    {
     "name": "stdout",
     "output_type": "stream",
     "text": [
      "6438.092136006358 is the Variance\n"
     ]
    }
   ],
   "source": [
    "#7. Report the variance (treating this dataset as population)\n",
    "variance = float(ss)/len(durations)\n",
    "print(str(variance) + ' is the Variance')"
   ]
  },
  {
   "cell_type": "code",
   "execution_count": 143,
   "id": "2f40a7d6",
   "metadata": {},
   "outputs": [
    {
     "name": "stdout",
     "output_type": "stream",
     "text": [
      "80.23772264967617 is the Standard Deviation\n"
     ]
    }
   ],
   "source": [
    "#8. Report the standard deviation (treating this dataset as population)\n",
    "stdev = math.sqrt(variance)\n",
    "print(str(stdev) + ' is the Standard Deviation')"
   ]
  },
  {
   "cell_type": "code",
   "execution_count": 144,
   "id": "c0973482",
   "metadata": {},
   "outputs": [
    {
     "name": "stdout",
     "output_type": "stream",
     "text": [
      "80.23772264967617 is the population Standard Deviation\n",
      "80.24185467443107 is the sample Standard Deviation\n"
     ]
    }
   ],
   "source": [
    "#9. STDEV.P vs. STDEV.S\n",
    "\n",
    "#STDEV.P\n",
    "print(str(stdev) + ' is the population Standard Deviation')\n",
    "\n",
    "#STDEV.S\n",
    "sampleVariance = float(ss)/(len(durations) - 1)\n",
    "sampleDev = math.sqrt(sampleVariance)\n",
    "print(str(sampleDev) + ' is the sample Standard Deviation')\n",
    "\n",
    "#(10.) They are different, (11.) because one function treats the dataset as sample \n",
    "#data while the other treats the dataset as population data"
   ]
  },
  {
   "cell_type": "code",
   "execution_count": 145,
   "id": "a2b48781",
   "metadata": {},
   "outputs": [
    {
     "name": "stdout",
     "output_type": "stream",
     "text": [
      "2.4167359750893653\n",
      "0.17340211595314212\n"
     ]
    }
   ],
   "source": [
    "#12. What is the z-score corresponding to X = 420?\n",
    "print(str((420.0 - float(mean))/(stdev)))\n",
    "\n",
    "#13. What is the z-score corresponding to X = 240?\n",
    "print(str((240.0 - float(mean))/(stdev)))"
   ]
  },
  {
   "cell_type": "code",
   "execution_count": 146,
   "id": "577eba63",
   "metadata": {},
   "outputs": [
    {
     "name": "stdout",
     "output_type": "stream",
     "text": [
      "65.61116381393245 is X\n",
      "0.0228 is the area under the curve\n",
      "383.35254550665013 is X\n",
      "0.975 is the area under the curve\n"
     ]
    }
   ],
   "source": [
    "#14. What is the X according to z = -2.00? \n",
    "#Using the z-table what is the area under the bell curve?\n",
    "print(str(-2.00 * stdev + float(mean)) + ' is X')\n",
    "print(str(.0228) + ' is the area under the curve')\n",
    "\n",
    "\n",
    "\n",
    "#15. What is the X according to z = 1.96? \n",
    "#Using the z-table what is the area under the bell curve?\n",
    "print(str(1.96 * stdev + float(mean)) + ' is X')\n",
    "print(str(.9750) + ' is the area under the curve')"
   ]
  }
 ],
 "metadata": {
  "kernelspec": {
   "display_name": "Python 3 (ipykernel)",
   "language": "python",
   "name": "python3"
  },
  "language_info": {
   "codemirror_mode": {
    "name": "ipython",
    "version": 3
   },
   "file_extension": ".py",
   "mimetype": "text/x-python",
   "name": "python",
   "nbconvert_exporter": "python",
   "pygments_lexer": "ipython3",
   "version": "3.9.12"
  }
 },
 "nbformat": 4,
 "nbformat_minor": 5
}
