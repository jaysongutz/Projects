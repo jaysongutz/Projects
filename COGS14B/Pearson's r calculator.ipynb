{
 "cells": [
  {
   "cell_type": "code",
   "execution_count": 4,
   "id": "8727ee2b",
   "metadata": {},
   "outputs": [
    {
     "name": "stdout",
     "output_type": "stream",
     "text": [
      "17307934.11320755\n",
      "1515.698113207546\n",
      "161967.90755859384\n",
      "-3339.754716981122\n",
      "-0.020619854681847547\n"
     ]
    }
   ],
   "source": [
    "import math as m\n",
    "import pandas as pd\n",
    "df = pd.read_csv('Assignment 2/Student survey - Sheet1.csv')\n",
    "sleep = list(df['#Instagram followers'])\n",
    "energy = list(df['#Music training'])\n",
    "\n",
    "#calculate mean of sleep and energy\n",
    "sumSleep = 0.0\n",
    "sumEnergy = 0.0\n",
    "\n",
    "for i in sleep:\n",
    "    sumSleep += i\n",
    "for i in energy:\n",
    "    sumEnergy += i\n",
    "\n",
    "meanSleep = sumSleep/len(sleep)\n",
    "meanEnergy = sumEnergy/len(energy)\n",
    "\n",
    "#calculate sum of squares\n",
    "ssSleep = 0.0\n",
    "ssEnergy = 0.0\n",
    "\n",
    "for i in sleep:\n",
    "    ssSleep += (i - meanSleep) * (i - meanSleep)\n",
    "for i in energy:\n",
    "    ssEnergy += (i - meanEnergy) * (i - meanEnergy)\n",
    "    \n",
    "print(ssSleep)\n",
    "print(ssEnergy)\n",
    "\n",
    "denom = m.sqrt(ssSleep * ssEnergy)\n",
    "print (denom)\n",
    "\n",
    "#numerator\n",
    "sumProducts = 0.0\n",
    "for i in range(len(sleep)):\n",
    "    sumProducts += (sleep[i] - meanSleep) * (energy[i] - meanEnergy)\n",
    "\n",
    "print(sumProducts)\n",
    "print(sumProducts / denom)"
   ]
  }
 ],
 "metadata": {
  "kernelspec": {
   "display_name": "Python 3 (ipykernel)",
   "language": "python",
   "name": "python3"
  },
  "language_info": {
   "codemirror_mode": {
    "name": "ipython",
    "version": 3
   },
   "file_extension": ".py",
   "mimetype": "text/x-python",
   "name": "python",
   "nbconvert_exporter": "python",
   "pygments_lexer": "ipython3",
   "version": "3.9.12"
  }
 },
 "nbformat": 4,
 "nbformat_minor": 5
}
