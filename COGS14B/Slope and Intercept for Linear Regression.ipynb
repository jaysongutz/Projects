{
 "cells": [
  {
   "cell_type": "code",
   "execution_count": 26,
   "id": "43e048f9",
   "metadata": {},
   "outputs": [
    {
     "name": "stdout",
     "output_type": "stream",
     "text": [
      "sum_x: 89\n",
      "sum_y: 70\n",
      "len_x: 10\n",
      "len_y: 10\n",
      "mean_x: 8.9\n",
      "mean_y: 7.0\n"
     ]
    },
    {
     "ename": "ZeroDivisionError",
     "evalue": "float division by zero",
     "output_type": "error",
     "traceback": [
      "\u001b[1;31m---------------------------------------------------------------------------\u001b[0m",
      "\u001b[1;31mZeroDivisionError\u001b[0m                         Traceback (most recent call last)",
      "Input \u001b[1;32mIn [26]\u001b[0m, in \u001b[0;36m<cell line: 23>\u001b[1;34m()\u001b[0m\n\u001b[0;32m     21\u001b[0m slope_xy \u001b[38;5;241m=\u001b[39m [\u001b[38;5;241m0.0\u001b[39m] \u001b[38;5;241m*\u001b[39m \u001b[38;5;28mlen\u001b[39m(x)\n\u001b[0;32m     23\u001b[0m \u001b[38;5;28;01mfor\u001b[39;00m i \u001b[38;5;129;01min\u001b[39;00m \u001b[38;5;28mrange\u001b[39m(\u001b[38;5;28mlen\u001b[39m(x) \u001b[38;5;241m-\u001b[39m \u001b[38;5;241m1\u001b[39m):\n\u001b[1;32m---> 24\u001b[0m     slope_xy[i] \u001b[38;5;241m=\u001b[39m \u001b[38;5;28;43mfloat\u001b[39;49m\u001b[43m(\u001b[49m\u001b[43my\u001b[49m\u001b[43m[\u001b[49m\u001b[43mi\u001b[49m\u001b[38;5;241;43m+\u001b[39;49m\u001b[38;5;241;43m1\u001b[39;49m\u001b[43m]\u001b[49m\u001b[43m \u001b[49m\u001b[38;5;241;43m-\u001b[39;49m\u001b[43m \u001b[49m\u001b[43my\u001b[49m\u001b[43m[\u001b[49m\u001b[43mi\u001b[49m\u001b[43m]\u001b[49m\u001b[43m)\u001b[49m\u001b[38;5;241;43m/\u001b[39;49m\u001b[38;5;28;43mfloat\u001b[39;49m\u001b[43m(\u001b[49m\u001b[43mx\u001b[49m\u001b[43m[\u001b[49m\u001b[43mi\u001b[49m\u001b[38;5;241;43m+\u001b[39;49m\u001b[38;5;241;43m1\u001b[39;49m\u001b[43m]\u001b[49m\u001b[43m \u001b[49m\u001b[38;5;241;43m-\u001b[39;49m\u001b[43m \u001b[49m\u001b[43mx\u001b[49m\u001b[43m[\u001b[49m\u001b[43mi\u001b[49m\u001b[43m]\u001b[49m\u001b[43m)\u001b[49m\n\u001b[0;32m     26\u001b[0m prod_xy \u001b[38;5;241m=\u001b[39m \u001b[38;5;28mfloat\u001b[39m(\u001b[38;5;28msum\u001b[39m(slope_xy))\u001b[38;5;241m/\u001b[39m\u001b[38;5;28mfloat\u001b[39m(\u001b[38;5;28mlen\u001b[39m(slope_xy))\n\u001b[0;32m     27\u001b[0m \u001b[38;5;28mprint\u001b[39m(\u001b[38;5;124m'\u001b[39m\u001b[38;5;124mprod_xy: \u001b[39m\u001b[38;5;124m'\u001b[39m \u001b[38;5;241m+\u001b[39m \u001b[38;5;28mstr\u001b[39m(prod_xy))\n",
      "\u001b[1;31mZeroDivisionError\u001b[0m: float division by zero"
     ]
    }
   ],
   "source": [
    "import pandas as pd\n",
    "import math as m\n",
    "\n",
    "x = [10, 12, 8, 8, 7, 9, 10, 11, 11, 3]\n",
    "y = [10, 10, 5, 5, 4, 5, 10, 10, 10, 1]\n",
    "\n",
    "sum_x = sum(x)\n",
    "sum_y = sum(y)\n",
    "\n",
    "print('sum_x: ' + str(sum_x))\n",
    "print('sum_y: ' + str(sum_y))    \n",
    "print('len_x: ' + str(len(x)))\n",
    "print('len_y: ' + str(len(y)))\n",
    "\n",
    "mean_x = sum_x/float(len(x))\n",
    "mean_y = sum_y/float(len(y))\n",
    "\n",
    "print('mean_x: ' + str(mean_x))\n",
    "print('mean_y: ' + str(mean_y))\n",
    "\n",
    "pro_xy = 0.0\n",
    "\n",
    "for i in range(len(x)):\n",
    "    prod_xy += float(((x[i] - mean_x) * (y[i] - mean_y)))\n",
    "    \n",
    "print('prod_xy: ' + str(prod_xy))\n",
    "\n",
    "ss_x = 0.0\n",
    "\n",
    "for i in range(len(x)):\n",
    "    ss_x = float((x[i] - mean_x) * (x[i] - mean_x))\n",
    "\n",
    "print('ss_x: ' + str(ss_x))\n",
    "\n",
    "slope_xy = prod_xy/ss_x\n",
    "\n",
    "print('slope_xy: ' + str(slope_xy))\n",
    "\n",
    "intercept = mean_x"
   ]
  },
  {
   "cell_type": "code",
   "execution_count": null,
   "id": "2075a425",
   "metadata": {},
   "outputs": [],
   "source": []
  }
 ],
 "metadata": {
  "kernelspec": {
   "display_name": "Python 3 (ipykernel)",
   "language": "python",
   "name": "python3"
  },
  "language_info": {
   "codemirror_mode": {
    "name": "ipython",
    "version": 3
   },
   "file_extension": ".py",
   "mimetype": "text/x-python",
   "name": "python",
   "nbconvert_exporter": "python",
   "pygments_lexer": "ipython3",
   "version": "3.9.12"
  }
 },
 "nbformat": 4,
 "nbformat_minor": 5
}
