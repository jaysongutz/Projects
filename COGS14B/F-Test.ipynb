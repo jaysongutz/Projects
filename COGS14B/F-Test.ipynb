{
 "cells": [
  {
   "cell_type": "code",
   "execution_count": 17,
   "id": "fdf22a61",
   "metadata": {},
   "outputs": [
    {
     "name": "stdout",
     "output_type": "stream",
     "text": [
      "DFBetween: 2\n",
      "DFWithin: 15.0\n",
      "MeanGrand: 8.0\n",
      "MeanWithin Condition 0: 5.0\n",
      "MeanWithin Condition 1: 9.0\n",
      "MeanWithin Condition 2: 10.0\n",
      "SSBetween: 84.0\n",
      "SSWithin: 88.0\n",
      "F: 7.159090909090909\n"
     ]
    }
   ],
   "source": [
    "Condition1 = [2.0, 3.0, 8.0, 6.0, 5.0, 6.0]\n",
    "Condition2 = [5.0, 9.0, 10.0, 13.0, 8.0, 9.0]\n",
    "Condition3 = [8.0, 6.0, 12.0, 11.0, 11.0, 12.0]\n",
    "\n",
    "Conditions = [Condition1, Condition2, Condition3]\n",
    "\n",
    "TotalObservations = 0.0\n",
    "for i in range (len(Conditions)):\n",
    "    TotalObservations += len(Conditions[i])\n",
    "\n",
    "DFBetween = len(Conditions) - 1\n",
    "DFWithin = TotalObservations - len(Conditions)\n",
    "\n",
    "print('DFBetween: ' + str(DFBetween))\n",
    "print('DFWithin: ' + str(DFWithin))\n",
    "\n",
    "MeanGrand = 0.0\n",
    "MeanWithin = [0.0] * len(Conditions)\n",
    "\n",
    "for i in range(len(Conditions)):\n",
    "    for j in range(len(Conditions[i])):\n",
    "        tempCond = Conditions[i]\n",
    "        MeanWithin[i] = sum(tempCond)/len(tempCond)\n",
    "        \n",
    "MeanGrand = sum(MeanWithin)/len(MeanWithin)\n",
    "\n",
    "print('MeanGrand: ' + str(MeanGrand))\n",
    "for i in range(len(Conditions)):\n",
    "    print('MeanWithin Condition ' + str(i) + ': ' + str(MeanWithin[i]))\n",
    "    \n",
    "SSBetween = 0.0\n",
    "for i in range(len(Conditions)):\n",
    "    SSBetween += (MeanWithin[i] - MeanGrand) * (MeanWithin[i] - MeanGrand)\n",
    "SSBetween *= len(Conditions[0])\n",
    "\n",
    "print('SSBetween: ' + str(SSBetween))\n",
    "\n",
    "SSWithin = 0.0\n",
    "for i in range(len(Conditions)):\n",
    "    for j in range(len(Conditions[i])):\n",
    "        tempCond = Conditions[i]\n",
    "        SSWithin += (tempCond[j] - MeanWithin[i]) * (tempCond[j] - MeanWithin[i])\n",
    "        \n",
    "print('SSWithin: ' + str(SSWithin))\n",
    "\n",
    "MeanSumBetween = SSBetween/DFBetween\n",
    "MeanSumWithin = SSWithin/DFWithin\n",
    "\n",
    "F = MeanSumBetween/MeanSumWithin\n",
    "\n",
    "print('F: ' + str(F))"
   ]
  }
 ],
 "metadata": {
  "kernelspec": {
   "display_name": "Python 3 (ipykernel)",
   "language": "python",
   "name": "python3"
  },
  "language_info": {
   "codemirror_mode": {
    "name": "ipython",
    "version": 3
   },
   "file_extension": ".py",
   "mimetype": "text/x-python",
   "name": "python",
   "nbconvert_exporter": "python",
   "pygments_lexer": "ipython3",
   "version": "3.9.12"
  }
 },
 "nbformat": 4,
 "nbformat_minor": 5
}
